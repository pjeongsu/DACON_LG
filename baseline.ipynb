{
 "cells": [
  {
   "cell_type": "markdown",
   "metadata": {},
   "source": [
    "# 1. Library Import"
   ]
  },
  {
   "cell_type": "code",
   "execution_count": 7,
   "metadata": {
    "collapsed": true
   },
   "outputs": [
    {
     "name": "stdout",
     "output_type": "stream",
     "text": [
      "Collecting lightgbm\n",
      "  Downloading lightgbm-3.1.1-py2.py3-none-win_amd64.whl (754 kB)\n",
      "Requirement already satisfied: scikit-learn!=0.22.0 in c:\\users\\master16\\anaconda\\lib\\site-packages (from lightgbm) (0.22.1)\n",
      "Requirement already satisfied: wheel in c:\\users\\master16\\anaconda\\lib\\site-packages (from lightgbm) (0.34.2)\n",
      "Requirement already satisfied: scipy in c:\\users\\master16\\anaconda\\lib\\site-packages (from lightgbm) (1.4.1)\n",
      "Requirement already satisfied: numpy in c:\\users\\master16\\anaconda\\lib\\site-packages (from lightgbm) (1.18.1)\n",
      "Requirement already satisfied: joblib>=0.11 in c:\\users\\master16\\anaconda\\lib\\site-packages (from scikit-learn!=0.22.0->lightgbm) (0.14.1)\n",
      "Installing collected packages: lightgbm\n",
      "Successfully installed lightgbm-3.1.1\n"
     ]
    }
   ],
   "source": [
    "# !pip install lightgbm"
   ]
  },
  {
   "cell_type": "code",
   "execution_count": 8,
   "metadata": {},
   "outputs": [],
   "source": [
    "import pandas as pd\n",
    "import numpy as np\n",
    "import datetime as dt\n",
    "import matplotlib.pyplot as plt\n",
    "from tqdm import tqdm\n",
    "import gc\n",
    "import random\n",
    "import lightgbm as lgb\n",
    "import re\n",
    "from sklearn.metrics import *\n",
    "from sklearn.model_selection import KFold\n",
    "import warnings\n",
    "warnings.filterwarnings(action='ignore')"
   ]
  },
  {
   "cell_type": "code",
   "execution_count": 9,
   "metadata": {},
   "outputs": [],
   "source": [
    "# 필요한 함수 정의\n",
    "def make_datetime(x):\n",
    "    # string 타입의 Time column을 datetime 타입으로 변경\n",
    "    x     = str(x)\n",
    "    year  = int(x[:4])\n",
    "    month = int(x[4:6])\n",
    "    day   = int(x[6:8])\n",
    "    hour  = int(x[8:10])\n",
    "    #mim  = int(x[10:12])\n",
    "    #sec  = int(x[12:])\n",
    "    return dt.datetime(year, month, day, hour)"
   ]
  },
  {
   "cell_type": "code",
   "execution_count": 10,
   "metadata": {},
   "outputs": [],
   "source": [
    "def string2num(x):\n",
    "    # (,)( )과 같은 불필요한 데이터 정제\n",
    "    x = re.sub(r\"[^0-9]+\", '', str(x))\n",
    "    if x =='':\n",
    "        return 0\n",
    "    else:\n",
    "        return int(x)"
   ]
  },
  {
   "cell_type": "markdown",
   "metadata": {},
   "source": [
    "# 2. 학습 데이터 생성"
   ]
  },
  {
   "cell_type": "markdown",
   "metadata": {},
   "source": [
    "## 2.1 train_err => train_err_data.csv"
   ]
  },
  {
   "cell_type": "code",
   "execution_count": 17,
   "metadata": {},
   "outputs": [],
   "source": [
    "PATH = 'data/'"
   ]
  },
  {
   "cell_type": "code",
   "execution_count": 18,
   "metadata": {},
   "outputs": [
    {
     "data": {
      "text/html": [
       "<div>\n",
       "<style scoped>\n",
       "    .dataframe tbody tr th:only-of-type {\n",
       "        vertical-align: middle;\n",
       "    }\n",
       "\n",
       "    .dataframe tbody tr th {\n",
       "        vertical-align: top;\n",
       "    }\n",
       "\n",
       "    .dataframe thead th {\n",
       "        text-align: right;\n",
       "    }\n",
       "</style>\n",
       "<table border=\"1\" class=\"dataframe\">\n",
       "  <thead>\n",
       "    <tr style=\"text-align: right;\">\n",
       "      <th></th>\n",
       "      <th>user_id</th>\n",
       "      <th>time</th>\n",
       "      <th>model_nm</th>\n",
       "      <th>fwver</th>\n",
       "      <th>errtype</th>\n",
       "      <th>errcode</th>\n",
       "    </tr>\n",
       "  </thead>\n",
       "  <tbody>\n",
       "    <tr>\n",
       "      <th>0</th>\n",
       "      <td>10000</td>\n",
       "      <td>20201101025616</td>\n",
       "      <td>model_3</td>\n",
       "      <td>05.15.2138</td>\n",
       "      <td>15</td>\n",
       "      <td>1</td>\n",
       "    </tr>\n",
       "    <tr>\n",
       "      <th>1</th>\n",
       "      <td>10000</td>\n",
       "      <td>20201101030309</td>\n",
       "      <td>model_3</td>\n",
       "      <td>05.15.2138</td>\n",
       "      <td>12</td>\n",
       "      <td>1</td>\n",
       "    </tr>\n",
       "    <tr>\n",
       "      <th>2</th>\n",
       "      <td>10000</td>\n",
       "      <td>20201101030309</td>\n",
       "      <td>model_3</td>\n",
       "      <td>05.15.2138</td>\n",
       "      <td>11</td>\n",
       "      <td>1</td>\n",
       "    </tr>\n",
       "    <tr>\n",
       "      <th>3</th>\n",
       "      <td>10000</td>\n",
       "      <td>20201101050514</td>\n",
       "      <td>model_3</td>\n",
       "      <td>05.15.2138</td>\n",
       "      <td>16</td>\n",
       "      <td>1</td>\n",
       "    </tr>\n",
       "    <tr>\n",
       "      <th>4</th>\n",
       "      <td>10000</td>\n",
       "      <td>20201101050515</td>\n",
       "      <td>model_3</td>\n",
       "      <td>05.15.2138</td>\n",
       "      <td>4</td>\n",
       "      <td>0</td>\n",
       "    </tr>\n",
       "  </tbody>\n",
       "</table>\n",
       "</div>"
      ],
      "text/plain": [
       "   user_id            time model_nm       fwver  errtype errcode\n",
       "0    10000  20201101025616  model_3  05.15.2138       15       1\n",
       "1    10000  20201101030309  model_3  05.15.2138       12       1\n",
       "2    10000  20201101030309  model_3  05.15.2138       11       1\n",
       "3    10000  20201101050514  model_3  05.15.2138       16       1\n",
       "4    10000  20201101050515  model_3  05.15.2138        4       0"
      ]
     },
     "metadata": {},
     "output_type": "display_data"
    }
   ],
   "source": [
    "train_err  = pd.read_csv(PATH+'train_err_data.csv')\n",
    "display(train_err.head())"
   ]
  },
  {
   "cell_type": "code",
   "execution_count": 19,
   "metadata": {},
   "outputs": [
    {
     "data": {
      "text/html": [
       "<div>\n",
       "<style scoped>\n",
       "    .dataframe tbody tr th:only-of-type {\n",
       "        vertical-align: middle;\n",
       "    }\n",
       "\n",
       "    .dataframe tbody tr th {\n",
       "        vertical-align: top;\n",
       "    }\n",
       "\n",
       "    .dataframe thead th {\n",
       "        text-align: right;\n",
       "    }\n",
       "</style>\n",
       "<table border=\"1\" class=\"dataframe\">\n",
       "  <thead>\n",
       "    <tr style=\"text-align: right;\">\n",
       "      <th></th>\n",
       "      <th>user_id</th>\n",
       "      <th>time</th>\n",
       "      <th>model_nm</th>\n",
       "      <th>fwver</th>\n",
       "      <th>errtype</th>\n",
       "      <th>errcode</th>\n",
       "    </tr>\n",
       "  </thead>\n",
       "  <tbody>\n",
       "    <tr>\n",
       "      <th>0</th>\n",
       "      <td>10000</td>\n",
       "      <td>20201101025616</td>\n",
       "      <td>model_3</td>\n",
       "      <td>05.15.2138</td>\n",
       "      <td>15</td>\n",
       "      <td>1</td>\n",
       "    </tr>\n",
       "    <tr>\n",
       "      <th>1</th>\n",
       "      <td>10000</td>\n",
       "      <td>20201101030309</td>\n",
       "      <td>model_3</td>\n",
       "      <td>05.15.2138</td>\n",
       "      <td>12</td>\n",
       "      <td>1</td>\n",
       "    </tr>\n",
       "    <tr>\n",
       "      <th>2</th>\n",
       "      <td>10000</td>\n",
       "      <td>20201101030309</td>\n",
       "      <td>model_3</td>\n",
       "      <td>05.15.2138</td>\n",
       "      <td>11</td>\n",
       "      <td>1</td>\n",
       "    </tr>\n",
       "    <tr>\n",
       "      <th>3</th>\n",
       "      <td>10000</td>\n",
       "      <td>20201101050514</td>\n",
       "      <td>model_3</td>\n",
       "      <td>05.15.2138</td>\n",
       "      <td>16</td>\n",
       "      <td>1</td>\n",
       "    </tr>\n",
       "    <tr>\n",
       "      <th>4</th>\n",
       "      <td>10000</td>\n",
       "      <td>20201101050515</td>\n",
       "      <td>model_3</td>\n",
       "      <td>05.15.2138</td>\n",
       "      <td>4</td>\n",
       "      <td>0</td>\n",
       "    </tr>\n",
       "  </tbody>\n",
       "</table>\n",
       "</div>"
      ],
      "text/plain": [
       "   user_id            time model_nm       fwver  errtype errcode\n",
       "0    10000  20201101025616  model_3  05.15.2138       15       1\n",
       "1    10000  20201101030309  model_3  05.15.2138       12       1\n",
       "2    10000  20201101030309  model_3  05.15.2138       11       1\n",
       "3    10000  20201101050514  model_3  05.15.2138       16       1\n",
       "4    10000  20201101050515  model_3  05.15.2138        4       0"
      ]
     },
     "metadata": {},
     "output_type": "display_data"
    }
   ],
   "source": [
    "# 데이터 설명을 확인하면\n",
    "# ueser_id가 10000부터 24999까지 총 15000개가 연속적으로 존재.\n",
    "\n",
    "display(train_err.head())\n",
    "train_user_id_max = 24999\n",
    "train_user_id_min = 10000\n",
    "train_user_number = 15000"
   ]
  },
  {
   "cell_type": "code",
   "execution_count": 21,
   "metadata": {},
   "outputs": [
    {
     "name": "stdout",
     "output_type": "stream",
     "text": [
      "<class 'pandas.core.frame.DataFrame'>\n",
      "RangeIndex: 16554663 entries, 0 to 16554662\n",
      "Data columns (total 6 columns):\n",
      " #   Column    Dtype \n",
      "---  ------    ----- \n",
      " 0   user_id   int64 \n",
      " 1   time      int64 \n",
      " 2   model_nm  object\n",
      " 3   fwver     object\n",
      " 4   errtype   int64 \n",
      " 5   errcode   object\n",
      "dtypes: int64(3), object(3)\n",
      "memory usage: 757.8+ MB\n"
     ]
    }
   ],
   "source": [
    "train_err.info()"
   ]
  },
  {
   "cell_type": "code",
   "execution_count": 20,
   "metadata": {},
   "outputs": [
    {
     "name": "stdout",
     "output_type": "stream",
     "text": [
      "[ 1  2  3  4  5  6  7  8  9 10 11 12 13 14 15 16 17 18 19 20 21 22 23 24\n",
      " 25 26 27 28 30 31 32 33 34 35 36 37 38 39 40 41 42]\n"
     ]
    }
   ],
   "source": [
    "print(np.sort(train_err.errtype.unique()))\n",
    "# errtype이 1부터 42까지 29를 제외한 41개가 존재."
   ]
  },
  {
   "cell_type": "code",
   "execution_count": 22,
   "metadata": {},
   "outputs": [
    {
     "name": "stderr",
     "output_type": "stream",
     "text": [
      "100%|██████████████████████████████████████████████████████████████████| 16554663/16554663 [00:33<00:00, 491846.99it/s]\n"
     ]
    },
    {
     "data": {
      "text/plain": [
       "(15000, 42)"
      ]
     },
     "execution_count": 22,
     "metadata": {},
     "output_type": "execute_result"
    }
   ],
   "source": [
    "# user_id와 errtype만을 사용하여 데이터 셋 생성\n",
    "# 모든 일자에 대해서 errtype별 발생 건수를 count\n",
    "# pandas의 groupby를 활용할 경우 큰 연산 자원이 필요.\n",
    "# numpy로 placeholder를 만들어 구현함.\n",
    "\n",
    "id_error = train_err[['user_id','errtype']].values\n",
    "error = np.zeros((train_user_number,42))\n",
    "\n",
    "for person_idx, err in tqdm(id_error):\n",
    "    # person_idx - train_user_id_min 위치에 person_idx, errtype에 해당하는 error값을 +1\n",
    "    error[person_idx - train_user_id_min,err - 1] += 1\n",
    "error.shape"
   ]
  },
  {
   "cell_type": "code",
   "execution_count": 29,
   "metadata": {},
   "outputs": [
    {
     "data": {
      "text/plain": [
       "array([  0.,   0.,   8., 104.,   0.,   1.,   1.,   0.,   0.,   7.,  15.,\n",
       "        16.,   1.,  10.,  59.,  61.,   0.,   0.,   0.,   0.,   0.,   0.,\n",
       "         0.,   0.,   0.,  32.,   1.,   1.,   0.,   0.,   0.,   0.,   0.,\n",
       "         0.,   0.,   0.,   0.,   0.,   0.,   0.,   0.,   0.])"
      ]
     },
     "execution_count": 29,
     "metadata": {},
     "output_type": "execute_result"
    }
   ],
   "source": [
    "# 첫 번째 사용자의 에러 타입\n",
    "error[0]"
   ]
  },
  {
   "cell_type": "code",
   "execution_count": 30,
   "metadata": {},
   "outputs": [
    {
     "data": {
      "text/plain": [
       "array([  0.,   0.,   4., 192.,   7.,   5.,   4.,   0.,   0.,   0.,  15.,\n",
       "        19.,   4.,  20., 135., 135.,   0.,   0.,   0.,   0.,   0.,   0.,\n",
       "         0.,   0.,   0.,  30.,   0.,   0.,   0.,   0.,   0.,   0.,   0.,\n",
       "         0.,   0.,   0.,   0.,   0.,   0.,   0.,   0.,   0.])"
      ]
     },
     "execution_count": 30,
     "metadata": {},
     "output_type": "execute_result"
    }
   ],
   "source": [
    "# 15000번째 사용자의 에러 타입\n",
    "error[14999]"
   ]
  },
  {
   "cell_type": "markdown",
   "metadata": {},
   "source": [
    "## 2.2 problem => train_problem_data.csv"
   ]
  },
  {
   "cell_type": "code",
   "execution_count": 35,
   "metadata": {},
   "outputs": [],
   "source": [
    "train_prob = pd.read_csv(PATH+'train_problem_data.csv')\n",
    "problem = np.zeros(15000)"
   ]
  },
  {
   "cell_type": "code",
   "execution_count": 36,
   "metadata": {},
   "outputs": [
    {
     "data": {
      "text/html": [
       "<div>\n",
       "<style scoped>\n",
       "    .dataframe tbody tr th:only-of-type {\n",
       "        vertical-align: middle;\n",
       "    }\n",
       "\n",
       "    .dataframe tbody tr th {\n",
       "        vertical-align: top;\n",
       "    }\n",
       "\n",
       "    .dataframe thead th {\n",
       "        text-align: right;\n",
       "    }\n",
       "</style>\n",
       "<table border=\"1\" class=\"dataframe\">\n",
       "  <thead>\n",
       "    <tr style=\"text-align: right;\">\n",
       "      <th></th>\n",
       "      <th>user_id</th>\n",
       "      <th>time</th>\n",
       "    </tr>\n",
       "  </thead>\n",
       "  <tbody>\n",
       "    <tr>\n",
       "      <th>0</th>\n",
       "      <td>19224</td>\n",
       "      <td>20201102200000</td>\n",
       "    </tr>\n",
       "    <tr>\n",
       "      <th>1</th>\n",
       "      <td>23664</td>\n",
       "      <td>20201116140000</td>\n",
       "    </tr>\n",
       "    <tr>\n",
       "      <th>2</th>\n",
       "      <td>15166</td>\n",
       "      <td>20201114130000</td>\n",
       "    </tr>\n",
       "    <tr>\n",
       "      <th>3</th>\n",
       "      <td>12590</td>\n",
       "      <td>20201108210000</td>\n",
       "    </tr>\n",
       "    <tr>\n",
       "      <th>4</th>\n",
       "      <td>15932</td>\n",
       "      <td>20201103210000</td>\n",
       "    </tr>\n",
       "    <tr>\n",
       "      <th>...</th>\n",
       "      <td>...</td>\n",
       "      <td>...</td>\n",
       "    </tr>\n",
       "    <tr>\n",
       "      <th>5424</th>\n",
       "      <td>20167</td>\n",
       "      <td>20201125120000</td>\n",
       "    </tr>\n",
       "    <tr>\n",
       "      <th>5425</th>\n",
       "      <td>16270</td>\n",
       "      <td>20201110120000</td>\n",
       "    </tr>\n",
       "    <tr>\n",
       "      <th>5426</th>\n",
       "      <td>19114</td>\n",
       "      <td>20201106230000</td>\n",
       "    </tr>\n",
       "    <tr>\n",
       "      <th>5427</th>\n",
       "      <td>21505</td>\n",
       "      <td>20201104110000</td>\n",
       "    </tr>\n",
       "    <tr>\n",
       "      <th>5428</th>\n",
       "      <td>18822</td>\n",
       "      <td>20201102120000</td>\n",
       "    </tr>\n",
       "  </tbody>\n",
       "</table>\n",
       "<p>5429 rows × 2 columns</p>\n",
       "</div>"
      ],
      "text/plain": [
       "      user_id            time\n",
       "0       19224  20201102200000\n",
       "1       23664  20201116140000\n",
       "2       15166  20201114130000\n",
       "3       12590  20201108210000\n",
       "4       15932  20201103210000\n",
       "...       ...             ...\n",
       "5424    20167  20201125120000\n",
       "5425    16270  20201110120000\n",
       "5426    19114  20201106230000\n",
       "5427    21505  20201104110000\n",
       "5428    18822  20201102120000\n",
       "\n",
       "[5429 rows x 2 columns]"
      ]
     },
     "execution_count": 36,
     "metadata": {},
     "output_type": "execute_result"
    }
   ],
   "source": [
    "train_prob"
   ]
  },
  {
   "cell_type": "code",
   "execution_count": 37,
   "metadata": {},
   "outputs": [
    {
     "data": {
      "text/plain": [
       "array([0., 0., 0., ..., 0., 0., 0.])"
      ]
     },
     "execution_count": 37,
     "metadata": {},
     "output_type": "execute_result"
    }
   ],
   "source": [
    "problem"
   ]
  },
  {
   "cell_type": "code",
   "execution_count": 38,
   "metadata": {},
   "outputs": [
    {
     "data": {
      "text/plain": [
       "(15000,)"
      ]
     },
     "execution_count": 38,
     "metadata": {},
     "output_type": "execute_result"
    }
   ],
   "source": [
    "# error와 동일한 방법으로 person_idx - 10000 위치에 \n",
    "# person_idx의 problem이 한 번이라도 발생했다면 1\n",
    "# 없다면 0\n",
    "\n",
    "problem[train_prob.user_id.unique()-10000] = 1 \n",
    "problem.shape"
   ]
  },
  {
   "cell_type": "code",
   "execution_count": 39,
   "metadata": {},
   "outputs": [
    {
     "data": {
      "text/plain": [
       "array([0., 1., 0., ..., 1., 1., 0.])"
      ]
     },
     "execution_count": 39,
     "metadata": {},
     "output_type": "execute_result"
    }
   ],
   "source": [
    "problem"
   ]
  },
  {
   "cell_type": "markdown",
   "metadata": {},
   "source": [
    "# 3. Light-gbm 모델 훈련"
   ]
  },
  {
   "cell_type": "code",
   "execution_count": 32,
   "metadata": {},
   "outputs": [
    {
     "name": "stdout",
     "output_type": "stream",
     "text": [
      "(15000, 42)\n",
      "(15000,)\n"
     ]
    }
   ],
   "source": [
    "# 변수 이름 변경\n",
    "# error  -> train_x\n",
    "# problem-> train_y\n",
    "\n",
    "train_x = error\n",
    "train_y = problem\n",
    "del error, problem\n",
    "\n",
    "print(train_x.shape)\n",
    "print(train_y.shape)"
   ]
  },
  {
   "cell_type": "code",
   "execution_count": 40,
   "metadata": {},
   "outputs": [
    {
     "data": {
      "text/plain": [
       "array([[  0.,   0.,   8., ...,   0.,   0.,   0.],\n",
       "       [  0.,   0.,   0., ..., 113.,  56.,   1.],\n",
       "       [  0.,   0.,   2., ...,   0.,   0.,   0.],\n",
       "       ...,\n",
       "       [  0.,   0.,   0., ...,  58.,   8.,   5.],\n",
       "       [  0.,   0.,   0., ...,   6.,   0.,   0.],\n",
       "       [  0.,   0.,   4., ...,   0.,   0.,   0.]])"
      ]
     },
     "execution_count": 40,
     "metadata": {},
     "output_type": "execute_result"
    }
   ],
   "source": [
    "# 훈련 데이터\n",
    "train_x"
   ]
  },
  {
   "cell_type": "code",
   "execution_count": 41,
   "metadata": {},
   "outputs": [
    {
     "data": {
      "text/plain": [
       "array([0., 1., 0., ..., 1., 1., 0.])"
      ]
     },
     "execution_count": 41,
     "metadata": {},
     "output_type": "execute_result"
    }
   ],
   "source": [
    "# 검증 데이터 \n",
    "train_y"
   ]
  },
  {
   "cell_type": "markdown",
   "metadata": {},
   "source": [
    "# Train\n",
    "# -------------------------------------------------------------------------------------"
   ]
  },
  {
   "cell_type": "code",
   "execution_count": 42,
   "metadata": {},
   "outputs": [],
   "source": [
    "# validation auc score를 확인하기 위해 정의\n",
    "def f_pr_auc(probas_pred, y_true):\n",
    "    labels=y_true.get_label()\n",
    "    p, r, _ = precision_recall_curve(labels, probas_pred)\n",
    "    score=auc(r,p) \n",
    "    return \"pr_auc\", score, True"
   ]
  },
  {
   "cell_type": "markdown",
   "metadata": {},
   "source": [
    "# -------------------------------------------------------------------------------------"
   ]
  },
  {
   "cell_type": "code",
   "execution_count": 43,
   "metadata": {},
   "outputs": [
    {
     "name": "stdout",
     "output_type": "stream",
     "text": [
      "[LightGBM] [Info] Number of positive: 3633, number of negative: 8367\n",
      "[LightGBM] [Warning] Auto-choosing row-wise multi-threading, the overhead of testing was 0.001125 seconds.\n",
      "You can set `force_row_wise=true` to remove the overhead.\n",
      "And if memory is not enough, you can set `force_col_wise=true`.\n",
      "[LightGBM] [Info] Total Bins 4353\n",
      "[LightGBM] [Info] Number of data points in the train set: 12000, number of used features: 41\n",
      "[LightGBM] [Info] [binary:BoostFromScore]: pavg=0.302750 -> initscore=-0.834237\n",
      "[LightGBM] [Info] Start training from score -0.834237\n",
      "Training until validation scores don't improve for 3 rounds\n",
      "[20]\tvalid_0's auc: 0.797482\tvalid_0's pr_auc: 0.79351\n",
      "Early stopping, best iteration is:\n",
      "[25]\tvalid_0's auc: 0.800713\tvalid_0's pr_auc: 0.798635\n",
      "==========================================================\n",
      "[LightGBM] [Info] Number of positive: 4828, number of negative: 7172\n",
      "[LightGBM] [Warning] Auto-choosing col-wise multi-threading, the overhead of testing was 0.001785 seconds.\n",
      "You can set `force_col_wise=true` to remove the overhead.\n",
      "[LightGBM] [Info] Total Bins 4499\n",
      "[LightGBM] [Info] Number of data points in the train set: 12000, number of used features: 41\n",
      "[LightGBM] [Info] [binary:BoostFromScore]: pavg=0.402333 -> initscore=-0.395752\n",
      "[LightGBM] [Info] Start training from score -0.395752\n",
      "Training until validation scores don't improve for 3 rounds\n",
      "Early stopping, best iteration is:\n",
      "[2]\tvalid_0's auc: 0.788479\tvalid_0's pr_auc: 0.318902\n",
      "==========================================================\n",
      "[LightGBM] [Info] Number of positive: 4718, number of negative: 7282\n",
      "[LightGBM] [Warning] Auto-choosing col-wise multi-threading, the overhead of testing was 0.001809 seconds.\n",
      "You can set `force_col_wise=true` to remove the overhead.\n",
      "[LightGBM] [Info] Total Bins 4606\n",
      "[LightGBM] [Info] Number of data points in the train set: 12000, number of used features: 41\n",
      "[LightGBM] [Info] [binary:BoostFromScore]: pavg=0.393167 -> initscore=-0.434021\n",
      "[LightGBM] [Info] Start training from score -0.434021\n",
      "Training until validation scores don't improve for 3 rounds\n",
      "Early stopping, best iteration is:\n",
      "[2]\tvalid_0's auc: 0.758498\tvalid_0's pr_auc: 0.358092\n",
      "==========================================================\n",
      "[LightGBM] [Info] Number of positive: 4544, number of negative: 7456\n",
      "[LightGBM] [Warning] Auto-choosing col-wise multi-threading, the overhead of testing was 0.001897 seconds.\n",
      "You can set `force_col_wise=true` to remove the overhead.\n",
      "[LightGBM] [Info] Total Bins 4510\n",
      "[LightGBM] [Info] Number of data points in the train set: 12000, number of used features: 41\n",
      "[LightGBM] [Info] [binary:BoostFromScore]: pavg=0.378667 -> initscore=-0.495211\n",
      "[LightGBM] [Info] Start training from score -0.495211\n",
      "Training until validation scores don't improve for 3 rounds\n",
      "Early stopping, best iteration is:\n",
      "[10]\tvalid_0's auc: 0.807486\tvalid_0's pr_auc: 0.551353\n",
      "==========================================================\n",
      "[LightGBM] [Info] Number of positive: 2277, number of negative: 9723\n",
      "[LightGBM] [Warning] Auto-choosing col-wise multi-threading, the overhead of testing was 0.001675 seconds.\n",
      "You can set `force_col_wise=true` to remove the overhead.\n",
      "[LightGBM] [Info] Total Bins 4280\n",
      "[LightGBM] [Info] Number of data points in the train set: 12000, number of used features: 41\n",
      "[LightGBM] [Info] [binary:BoostFromScore]: pavg=0.189750 -> initscore=-1.451635\n",
      "[LightGBM] [Info] Start training from score -1.451635\n",
      "Training until validation scores don't improve for 3 rounds\n",
      "Early stopping, best iteration is:\n",
      "[13]\tvalid_0's auc: 0.80189\tvalid_0's pr_auc: 0.974435\n",
      "==========================================================\n"
     ]
    }
   ],
   "source": [
    "models     = []\n",
    "recalls    = []\n",
    "precisions = []\n",
    "auc_scores   = []\n",
    "threshold = 0.5\n",
    "# 파라미터 설정\n",
    "params =      {\n",
    "                'boosting_type' : 'gbdt',\n",
    "                'objective'     : 'binary',\n",
    "                'metric'        : 'auc',\n",
    "                'seed': 1015\n",
    "                }\n",
    "#-------------------------------------------------------------------------------------\n",
    "# 5 Kfold cross validation\n",
    "k_fold = KFold(n_splits=5, shuffle=True, random_state=42)\n",
    "for train_idx, val_idx in k_fold.split(train_x):\n",
    "\n",
    "    # split train, validation set\n",
    "    X = train_x[train_idx]\n",
    "    y = train_y[train_idx]\n",
    "    valid_x = train_x[val_idx]\n",
    "    valid_y = train_y[val_idx]\n",
    "\n",
    "    d_train= lgb.Dataset(X, y)\n",
    "    d_val  = lgb.Dataset(valid_x, valid_y)\n",
    "    \n",
    "    #run traning\n",
    "    model = lgb.train(\n",
    "                        params,\n",
    "                        train_set       = d_train,\n",
    "                        num_boost_round = 1000,\n",
    "                        valid_sets      = d_val,\n",
    "                        feval           = f_pr_auc,\n",
    "                        verbose_eval    = 20, \n",
    "                        early_stopping_rounds = 3\n",
    "                       )\n",
    "    \n",
    "    # cal valid prediction\n",
    "    valid_prob = model.predict(valid_x)\n",
    "    valid_pred = np.where(valid_prob > threshold, 1, 0)\n",
    "    \n",
    "    # cal scores\n",
    "    recall    = recall_score(    valid_y, valid_pred)\n",
    "    precision = precision_score( valid_y, valid_pred)\n",
    "    auc_score = roc_auc_score(   valid_y, valid_prob)\n",
    "\n",
    "    # append scores\n",
    "    models.append(model)\n",
    "    recalls.append(recall)\n",
    "    precisions.append(precision)\n",
    "    auc_scores.append(auc_score)\n",
    "\n",
    "    print('==========================================================')"
   ]
  },
  {
   "cell_type": "markdown",
   "metadata": {},
   "source": [
    "# 4. 교차검증 점수 확인"
   ]
  },
  {
   "cell_type": "code",
   "execution_count": 44,
   "metadata": {},
   "outputs": [
    {
     "name": "stdout",
     "output_type": "stream",
     "text": [
      "0.7914130199022232\n"
     ]
    }
   ],
   "source": [
    "print(np.mean(auc_scores))"
   ]
  },
  {
   "cell_type": "markdown",
   "metadata": {},
   "source": [
    "# 5. 제출 파일 생성"
   ]
  },
  {
   "cell_type": "code",
   "execution_count": 45,
   "metadata": {},
   "outputs": [
    {
     "data": {
      "text/html": [
       "<div>\n",
       "<style scoped>\n",
       "    .dataframe tbody tr th:only-of-type {\n",
       "        vertical-align: middle;\n",
       "    }\n",
       "\n",
       "    .dataframe tbody tr th {\n",
       "        vertical-align: top;\n",
       "    }\n",
       "\n",
       "    .dataframe thead th {\n",
       "        text-align: right;\n",
       "    }\n",
       "</style>\n",
       "<table border=\"1\" class=\"dataframe\">\n",
       "  <thead>\n",
       "    <tr style=\"text-align: right;\">\n",
       "      <th></th>\n",
       "      <th>user_id</th>\n",
       "      <th>time</th>\n",
       "      <th>model_nm</th>\n",
       "      <th>fwver</th>\n",
       "      <th>errtype</th>\n",
       "      <th>errcode</th>\n",
       "    </tr>\n",
       "  </thead>\n",
       "  <tbody>\n",
       "    <tr>\n",
       "      <th>0</th>\n",
       "      <td>30000</td>\n",
       "      <td>20201101030227</td>\n",
       "      <td>model_1</td>\n",
       "      <td>04.16.3553</td>\n",
       "      <td>31</td>\n",
       "      <td>1</td>\n",
       "    </tr>\n",
       "    <tr>\n",
       "      <th>1</th>\n",
       "      <td>30000</td>\n",
       "      <td>20201101030227</td>\n",
       "      <td>model_1</td>\n",
       "      <td>04.16.3553</td>\n",
       "      <td>33</td>\n",
       "      <td>2</td>\n",
       "    </tr>\n",
       "    <tr>\n",
       "      <th>2</th>\n",
       "      <td>30000</td>\n",
       "      <td>20201101030228</td>\n",
       "      <td>model_1</td>\n",
       "      <td>04.16.3553</td>\n",
       "      <td>15</td>\n",
       "      <td>1</td>\n",
       "    </tr>\n",
       "    <tr>\n",
       "      <th>3</th>\n",
       "      <td>30000</td>\n",
       "      <td>20201101030256</td>\n",
       "      <td>model_1</td>\n",
       "      <td>04.16.3553</td>\n",
       "      <td>22</td>\n",
       "      <td>1</td>\n",
       "    </tr>\n",
       "    <tr>\n",
       "      <th>4</th>\n",
       "      <td>30000</td>\n",
       "      <td>20201101030300</td>\n",
       "      <td>model_1</td>\n",
       "      <td>04.16.3553</td>\n",
       "      <td>11</td>\n",
       "      <td>1</td>\n",
       "    </tr>\n",
       "  </tbody>\n",
       "</table>\n",
       "</div>"
      ],
      "text/plain": [
       "   user_id            time model_nm       fwver  errtype errcode\n",
       "0    30000  20201101030227  model_1  04.16.3553       31       1\n",
       "1    30000  20201101030227  model_1  04.16.3553       33       2\n",
       "2    30000  20201101030228  model_1  04.16.3553       15       1\n",
       "3    30000  20201101030256  model_1  04.16.3553       22       1\n",
       "4    30000  20201101030300  model_1  04.16.3553       11       1"
      ]
     },
     "metadata": {},
     "output_type": "display_data"
    }
   ],
   "source": [
    "test_err  = pd.read_csv(PATH+'test_err_data.csv')\n",
    "display(test_err.head())"
   ]
  },
  {
   "cell_type": "code",
   "execution_count": 46,
   "metadata": {},
   "outputs": [],
   "source": [
    "# 데이터 설명을 확인하면\n",
    "# test 데이터는 ueser_id가 30000부터 44998까지 총 14999개가 존재.\n",
    "test_user_id_max = 44998\n",
    "test_user_id_min = 30000\n",
    "test_user_number = 14999"
   ]
  },
  {
   "cell_type": "code",
   "execution_count": 47,
   "metadata": {},
   "outputs": [
    {
     "name": "stderr",
     "output_type": "stream",
     "text": [
      "100%|██████████████████████████████████████████████████████████████████| 16532648/16532648 [00:32<00:00, 501198.03it/s]"
     ]
    },
    {
     "name": "stdout",
     "output_type": "stream",
     "text": [
      "(14999, 42)\n"
     ]
    },
    {
     "name": "stderr",
     "output_type": "stream",
     "text": [
      "\n"
     ]
    }
   ],
   "source": [
    "id_error = test_err[['user_id','errtype']].values\n",
    "test_x = np.zeros((test_user_number,42))\n",
    "for person_idx, err in tqdm(id_error):\n",
    "    # person_idx - test_user_id_min 위치에 person_idx, errtype에 해당하는 error값을 +1\n",
    "    test_x[person_idx - test_user_id_min,err - 1] += 1\n",
    "test_x = test_x.reshape(test_x.shape[0],-1)\n",
    "print(test_x.shape)"
   ]
  },
  {
   "cell_type": "code",
   "execution_count": 48,
   "metadata": {},
   "outputs": [],
   "source": [
    "# 예측\n",
    "pred_y_list = []\n",
    "for model in models:\n",
    "    pred_y = model.predict(test_x)\n",
    "    pred_y_list.append(pred_y.reshape(-1,1))\n",
    "    \n",
    "pred_ensemble = np.mean(pred_y_list, axis = 0)"
   ]
  },
  {
   "cell_type": "code",
   "execution_count": 49,
   "metadata": {},
   "outputs": [
    {
     "data": {
      "text/plain": [
       "array([[0.57755635],\n",
       "       [0.26089892],\n",
       "       [0.31557557],\n",
       "       ...,\n",
       "       [0.38301962],\n",
       "       [0.61611595],\n",
       "       [0.34348301]])"
      ]
     },
     "execution_count": 49,
     "metadata": {},
     "output_type": "execute_result"
    }
   ],
   "source": [
    "pred_ensemble"
   ]
  },
  {
   "cell_type": "code",
   "execution_count": 50,
   "metadata": {},
   "outputs": [],
   "source": [
    "sample_submssion = pd.read_csv(PATH+'sample_submission.csv')"
   ]
  },
  {
   "cell_type": "code",
   "execution_count": 51,
   "metadata": {},
   "outputs": [],
   "source": [
    "sample_submssion['problem'] = pred_ensemble.reshape(-1)"
   ]
  },
  {
   "cell_type": "code",
   "execution_count": 52,
   "metadata": {},
   "outputs": [
    {
     "data": {
      "text/html": [
       "<div>\n",
       "<style scoped>\n",
       "    .dataframe tbody tr th:only-of-type {\n",
       "        vertical-align: middle;\n",
       "    }\n",
       "\n",
       "    .dataframe tbody tr th {\n",
       "        vertical-align: top;\n",
       "    }\n",
       "\n",
       "    .dataframe thead th {\n",
       "        text-align: right;\n",
       "    }\n",
       "</style>\n",
       "<table border=\"1\" class=\"dataframe\">\n",
       "  <thead>\n",
       "    <tr style=\"text-align: right;\">\n",
       "      <th></th>\n",
       "      <th>user_id</th>\n",
       "      <th>problem</th>\n",
       "    </tr>\n",
       "  </thead>\n",
       "  <tbody>\n",
       "    <tr>\n",
       "      <th>0</th>\n",
       "      <td>30000</td>\n",
       "      <td>0.577556</td>\n",
       "    </tr>\n",
       "    <tr>\n",
       "      <th>1</th>\n",
       "      <td>30001</td>\n",
       "      <td>0.260899</td>\n",
       "    </tr>\n",
       "    <tr>\n",
       "      <th>2</th>\n",
       "      <td>30002</td>\n",
       "      <td>0.315576</td>\n",
       "    </tr>\n",
       "    <tr>\n",
       "      <th>3</th>\n",
       "      <td>30003</td>\n",
       "      <td>0.535576</td>\n",
       "    </tr>\n",
       "    <tr>\n",
       "      <th>4</th>\n",
       "      <td>30004</td>\n",
       "      <td>0.454501</td>\n",
       "    </tr>\n",
       "    <tr>\n",
       "      <th>...</th>\n",
       "      <td>...</td>\n",
       "      <td>...</td>\n",
       "    </tr>\n",
       "    <tr>\n",
       "      <th>14994</th>\n",
       "      <td>44994</td>\n",
       "      <td>0.329001</td>\n",
       "    </tr>\n",
       "    <tr>\n",
       "      <th>14995</th>\n",
       "      <td>44995</td>\n",
       "      <td>0.315880</td>\n",
       "    </tr>\n",
       "    <tr>\n",
       "      <th>14996</th>\n",
       "      <td>44996</td>\n",
       "      <td>0.383020</td>\n",
       "    </tr>\n",
       "    <tr>\n",
       "      <th>14997</th>\n",
       "      <td>44997</td>\n",
       "      <td>0.616116</td>\n",
       "    </tr>\n",
       "    <tr>\n",
       "      <th>14998</th>\n",
       "      <td>44998</td>\n",
       "      <td>0.343483</td>\n",
       "    </tr>\n",
       "  </tbody>\n",
       "</table>\n",
       "<p>14999 rows × 2 columns</p>\n",
       "</div>"
      ],
      "text/plain": [
       "       user_id   problem\n",
       "0        30000  0.577556\n",
       "1        30001  0.260899\n",
       "2        30002  0.315576\n",
       "3        30003  0.535576\n",
       "4        30004  0.454501\n",
       "...        ...       ...\n",
       "14994    44994  0.329001\n",
       "14995    44995  0.315880\n",
       "14996    44996  0.383020\n",
       "14997    44997  0.616116\n",
       "14998    44998  0.343483\n",
       "\n",
       "[14999 rows x 2 columns]"
      ]
     },
     "execution_count": 52,
     "metadata": {},
     "output_type": "execute_result"
    }
   ],
   "source": [
    "sample_submssion.to_csv(\"dacon_baseline.csv\", index = False)\n",
    "sample_submssion"
   ]
  }
 ],
 "metadata": {
  "kernelspec": {
   "display_name": "Python 3",
   "language": "python",
   "name": "python3"
  },
  "language_info": {
   "codemirror_mode": {
    "name": "ipython",
    "version": 3
   },
   "file_extension": ".py",
   "mimetype": "text/x-python",
   "name": "python",
   "nbconvert_exporter": "python",
   "pygments_lexer": "ipython3",
   "version": "3.7.6"
  }
 },
 "nbformat": 4,
 "nbformat_minor": 4
}
